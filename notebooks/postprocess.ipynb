{
 "cells": [
  {
   "cell_type": "code",
   "execution_count": 5,
   "metadata": {
    "collapsed": true
   },
   "outputs": [],
   "source": [
    "import matplotlib.pyplot as plt\n",
    "import numpy as np\n",
    "import pandas as pd"
   ]
  },
  {
   "cell_type": "code",
   "execution_count": 3,
   "metadata": {
    "collapsed": true
   },
   "outputs": [],
   "source": [
    "data_path = '../data/GE_observations.npy'\n",
    "observations = np.load(data_path)\n",
    "raw_data_path = '../stock_GE.csv'"
   ]
  },
  {
   "cell_type": "code",
   "execution_count": 6,
   "metadata": {
    "collapsed": false
   },
   "outputs": [],
   "source": [
    "df = pd.read_csv('../data/stock_GE.csv')"
   ]
  },
  {
   "cell_type": "code",
   "execution_count": 8,
   "metadata": {
    "collapsed": false
   },
   "outputs": [],
   "source": [
    "dates = df[\"Date\"][-1000:]"
   ]
  },
  {
   "cell_type": "code",
   "execution_count": 11,
   "metadata": {
    "collapsed": false,
    "scrolled": true
   },
   "outputs": [
    {
     "data": {
      "text/plain": [
       "2020    2014-01-13\n",
       "2021    2014-01-14\n",
       "2022    2014-01-15\n",
       "2023    2014-01-16\n",
       "2024    2014-01-17\n",
       "Name: Date, dtype: object"
      ]
     },
     "execution_count": 11,
     "metadata": {},
     "output_type": "execute_result"
    }
   ],
   "source": [
    "dates.head()"
   ]
  },
  {
   "cell_type": "code",
   "execution_count": 68,
   "metadata": {
    "collapsed": true
   },
   "outputs": [],
   "source": [
    "results_path2 = '../experiments/experiments_RW/exp_params_10seeds/1/BIS_EM_Powell_100P_16J-initparams1/states_estims.npy'"
   ]
  },
  {
   "cell_type": "code",
   "execution_count": 71,
   "metadata": {
    "collapsed": false
   },
   "outputs": [],
   "source": [
    "estimated_states_2 = np.mean(np.load(results_path2), axis=-1)"
   ]
  },
  {
   "cell_type": "code",
   "execution_count": 77,
   "metadata": {
    "collapsed": false
   },
   "outputs": [],
   "source": [
    "fig, ax = plt.subplots(2,1, figsize=(40,20), sharex=True)\n",
    "x = list(range(len(observations)))\n",
    "selected_index = np.arange(0, len(dates), 28)\n",
    "selected_dates = [dates.iloc[i] for i in selected_index]\n",
    "ax[0].plot(x, observations, color='black', label=r'observations $Y_{0:n}$')\n",
    "plt.xticks(selected_index, selected_dates, rotation='vertical',fontsize=24)\n",
    "ax[1].plot(x, estimated_states_2, color='green', label=r'$\\mathbb{E}[X_k|Y_{0:n}]$')\n",
    "plt.xticks(selected_index, selected_dates, rotation='vertical',fontsize=24)\n",
    "ax[0].tick_params(labelsize=20, bottom=False)\n",
    "ax[1].tick_params(labelsize=20)\n",
    "#ax[1].set_yticks(size=16)\n",
    "plt.subplots_adjust(bottom=0.15)\n",
    "fig.subplots_adjust(hspace=0.1)\n",
    "ax[0].grid('on')\n",
    "ax[0].set_ylabel(r'observations $Y_{0:n}$', fontsize=28)\n",
    "ax[1].grid('on')\n",
    "ax[1].set_ylabel(r'$\\mathbb{E}[X_k|Y_{0:n}]$', fontsize=28)\n",
    "#ax[0].legend(loc='upper right', fontsize=28)\n",
    "#ax[1].legend(loc='upper right', fontsize=28)\n",
    "plt.savefig(\"observations_vs_estimated_states_BIS_100P_16J.pdf\", format='pdf')"
   ]
  },
  {
   "cell_type": "code",
   "execution_count": null,
   "metadata": {
    "collapsed": true
   },
   "outputs": [],
   "source": []
  }
 ],
 "metadata": {
  "kernelspec": {
   "display_name": "Python [conda env:rl-env]",
   "language": "python",
   "name": "conda-env-rl-env-py"
  },
  "language_info": {
   "codemirror_mode": {
    "name": "ipython",
    "version": 3
   },
   "file_extension": ".py",
   "mimetype": "text/x-python",
   "name": "python",
   "nbconvert_exporter": "python",
   "pygments_lexer": "ipython3",
   "version": "3.6.1"
  }
 },
 "nbformat": 4,
 "nbformat_minor": 2
}
